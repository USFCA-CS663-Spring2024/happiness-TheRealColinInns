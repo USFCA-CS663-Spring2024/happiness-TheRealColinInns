{
 "cells": [
  {
   "cell_type": "markdown",
   "id": "df8556d7-615e-4650-b1a4-0e87255524e3",
   "metadata": {},
   "source": [
    "# Happiness Assignment 1\n",
    "## Colin Inns"
   ]
  },
  {
   "cell_type": "code",
   "execution_count": 2,
   "id": "e1e9c385",
   "metadata": {},
   "outputs": [],
   "source": [
    "import pandas as pd"
   ]
  },
  {
   "cell_type": "code",
   "execution_count": 3,
   "id": "6e2418da-5aa2-4550-a2b5-197a041033cd",
   "metadata": {},
   "outputs": [
    {
     "data": {
      "text/html": [
       "<div>\n",
       "<style scoped>\n",
       "    .dataframe tbody tr th:only-of-type {\n",
       "        vertical-align: middle;\n",
       "    }\n",
       "\n",
       "    .dataframe tbody tr th {\n",
       "        vertical-align: top;\n",
       "    }\n",
       "\n",
       "    .dataframe thead th {\n",
       "        text-align: right;\n",
       "    }\n",
       "</style>\n",
       "<table border=\"1\" class=\"dataframe\">\n",
       "  <thead>\n",
       "    <tr style=\"text-align: right;\">\n",
       "      <th></th>\n",
       "      <th>Country name</th>\n",
       "      <th>year</th>\n",
       "      <th>Life Ladder</th>\n",
       "      <th>Log GDP per capita</th>\n",
       "      <th>Social support</th>\n",
       "      <th>Healthy life expectancy at birth</th>\n",
       "      <th>Freedom to make life choices</th>\n",
       "      <th>Generosity</th>\n",
       "      <th>Perceptions of corruption</th>\n",
       "      <th>Positive affect</th>\n",
       "      <th>Negative affect</th>\n",
       "    </tr>\n",
       "  </thead>\n",
       "  <tbody>\n",
       "    <tr>\n",
       "      <th>0</th>\n",
       "      <td>Afghanistan</td>\n",
       "      <td>2008</td>\n",
       "      <td>3.723590</td>\n",
       "      <td>7.350416</td>\n",
       "      <td>0.450662</td>\n",
       "      <td>50.500000</td>\n",
       "      <td>0.718114</td>\n",
       "      <td>0.167652</td>\n",
       "      <td>0.881686</td>\n",
       "      <td>0.414297</td>\n",
       "      <td>0.258195</td>\n",
       "    </tr>\n",
       "    <tr>\n",
       "      <th>1</th>\n",
       "      <td>Afghanistan</td>\n",
       "      <td>2009</td>\n",
       "      <td>4.401778</td>\n",
       "      <td>7.508646</td>\n",
       "      <td>0.552308</td>\n",
       "      <td>50.799999</td>\n",
       "      <td>0.678896</td>\n",
       "      <td>0.190809</td>\n",
       "      <td>0.850035</td>\n",
       "      <td>0.481421</td>\n",
       "      <td>0.237092</td>\n",
       "    </tr>\n",
       "    <tr>\n",
       "      <th>2</th>\n",
       "      <td>Afghanistan</td>\n",
       "      <td>2010</td>\n",
       "      <td>4.758381</td>\n",
       "      <td>7.613900</td>\n",
       "      <td>0.539075</td>\n",
       "      <td>51.099998</td>\n",
       "      <td>0.600127</td>\n",
       "      <td>0.121316</td>\n",
       "      <td>0.706766</td>\n",
       "      <td>0.516907</td>\n",
       "      <td>0.275324</td>\n",
       "    </tr>\n",
       "    <tr>\n",
       "      <th>3</th>\n",
       "      <td>Afghanistan</td>\n",
       "      <td>2011</td>\n",
       "      <td>3.831719</td>\n",
       "      <td>7.581259</td>\n",
       "      <td>0.521104</td>\n",
       "      <td>51.400002</td>\n",
       "      <td>0.495901</td>\n",
       "      <td>0.163571</td>\n",
       "      <td>0.731109</td>\n",
       "      <td>0.479835</td>\n",
       "      <td>0.267175</td>\n",
       "    </tr>\n",
       "    <tr>\n",
       "      <th>4</th>\n",
       "      <td>Afghanistan</td>\n",
       "      <td>2012</td>\n",
       "      <td>3.782938</td>\n",
       "      <td>7.660506</td>\n",
       "      <td>0.520637</td>\n",
       "      <td>51.700001</td>\n",
       "      <td>0.530935</td>\n",
       "      <td>0.237588</td>\n",
       "      <td>0.775620</td>\n",
       "      <td>0.613513</td>\n",
       "      <td>0.267919</td>\n",
       "    </tr>\n",
       "    <tr>\n",
       "      <th>...</th>\n",
       "      <td>...</td>\n",
       "      <td>...</td>\n",
       "      <td>...</td>\n",
       "      <td>...</td>\n",
       "      <td>...</td>\n",
       "      <td>...</td>\n",
       "      <td>...</td>\n",
       "      <td>...</td>\n",
       "      <td>...</td>\n",
       "      <td>...</td>\n",
       "      <td>...</td>\n",
       "    </tr>\n",
       "    <tr>\n",
       "      <th>2194</th>\n",
       "      <td>Zimbabwe</td>\n",
       "      <td>2018</td>\n",
       "      <td>3.616480</td>\n",
       "      <td>7.783066</td>\n",
       "      <td>0.775388</td>\n",
       "      <td>52.625000</td>\n",
       "      <td>0.762675</td>\n",
       "      <td>-0.051219</td>\n",
       "      <td>0.844209</td>\n",
       "      <td>0.657524</td>\n",
       "      <td>0.211726</td>\n",
       "    </tr>\n",
       "    <tr>\n",
       "      <th>2195</th>\n",
       "      <td>Zimbabwe</td>\n",
       "      <td>2019</td>\n",
       "      <td>2.693523</td>\n",
       "      <td>7.697755</td>\n",
       "      <td>0.759162</td>\n",
       "      <td>53.099998</td>\n",
       "      <td>0.631908</td>\n",
       "      <td>-0.047464</td>\n",
       "      <td>0.830652</td>\n",
       "      <td>0.658434</td>\n",
       "      <td>0.235354</td>\n",
       "    </tr>\n",
       "    <tr>\n",
       "      <th>2196</th>\n",
       "      <td>Zimbabwe</td>\n",
       "      <td>2020</td>\n",
       "      <td>3.159802</td>\n",
       "      <td>7.596050</td>\n",
       "      <td>0.717243</td>\n",
       "      <td>53.575001</td>\n",
       "      <td>0.643303</td>\n",
       "      <td>0.006313</td>\n",
       "      <td>0.788523</td>\n",
       "      <td>0.660658</td>\n",
       "      <td>0.345736</td>\n",
       "    </tr>\n",
       "    <tr>\n",
       "      <th>2197</th>\n",
       "      <td>Zimbabwe</td>\n",
       "      <td>2021</td>\n",
       "      <td>3.154578</td>\n",
       "      <td>7.656878</td>\n",
       "      <td>0.685151</td>\n",
       "      <td>54.049999</td>\n",
       "      <td>0.667636</td>\n",
       "      <td>-0.075575</td>\n",
       "      <td>0.756945</td>\n",
       "      <td>0.609917</td>\n",
       "      <td>0.241682</td>\n",
       "    </tr>\n",
       "    <tr>\n",
       "      <th>2198</th>\n",
       "      <td>Zimbabwe</td>\n",
       "      <td>2022</td>\n",
       "      <td>3.296220</td>\n",
       "      <td>7.670123</td>\n",
       "      <td>0.666172</td>\n",
       "      <td>54.525002</td>\n",
       "      <td>0.651987</td>\n",
       "      <td>-0.069513</td>\n",
       "      <td>0.752632</td>\n",
       "      <td>0.640609</td>\n",
       "      <td>0.191350</td>\n",
       "    </tr>\n",
       "  </tbody>\n",
       "</table>\n",
       "<p>2199 rows × 11 columns</p>\n",
       "</div>"
      ],
      "text/plain": [
       "     Country name  year  Life Ladder  Log GDP per capita  Social support  \\\n",
       "0     Afghanistan  2008     3.723590            7.350416        0.450662   \n",
       "1     Afghanistan  2009     4.401778            7.508646        0.552308   \n",
       "2     Afghanistan  2010     4.758381            7.613900        0.539075   \n",
       "3     Afghanistan  2011     3.831719            7.581259        0.521104   \n",
       "4     Afghanistan  2012     3.782938            7.660506        0.520637   \n",
       "...           ...   ...          ...                 ...             ...   \n",
       "2194     Zimbabwe  2018     3.616480            7.783066        0.775388   \n",
       "2195     Zimbabwe  2019     2.693523            7.697755        0.759162   \n",
       "2196     Zimbabwe  2020     3.159802            7.596050        0.717243   \n",
       "2197     Zimbabwe  2021     3.154578            7.656878        0.685151   \n",
       "2198     Zimbabwe  2022     3.296220            7.670123        0.666172   \n",
       "\n",
       "      Healthy life expectancy at birth  Freedom to make life choices  \\\n",
       "0                            50.500000                      0.718114   \n",
       "1                            50.799999                      0.678896   \n",
       "2                            51.099998                      0.600127   \n",
       "3                            51.400002                      0.495901   \n",
       "4                            51.700001                      0.530935   \n",
       "...                                ...                           ...   \n",
       "2194                         52.625000                      0.762675   \n",
       "2195                         53.099998                      0.631908   \n",
       "2196                         53.575001                      0.643303   \n",
       "2197                         54.049999                      0.667636   \n",
       "2198                         54.525002                      0.651987   \n",
       "\n",
       "      Generosity  Perceptions of corruption  Positive affect  Negative affect  \n",
       "0       0.167652                   0.881686         0.414297         0.258195  \n",
       "1       0.190809                   0.850035         0.481421         0.237092  \n",
       "2       0.121316                   0.706766         0.516907         0.275324  \n",
       "3       0.163571                   0.731109         0.479835         0.267175  \n",
       "4       0.237588                   0.775620         0.613513         0.267919  \n",
       "...          ...                        ...              ...              ...  \n",
       "2194   -0.051219                   0.844209         0.657524         0.211726  \n",
       "2195   -0.047464                   0.830652         0.658434         0.235354  \n",
       "2196    0.006313                   0.788523         0.660658         0.345736  \n",
       "2197   -0.075575                   0.756945         0.609917         0.241682  \n",
       "2198   -0.069513                   0.752632         0.640609         0.191350  \n",
       "\n",
       "[2199 rows x 11 columns]"
      ]
     },
     "execution_count": 3,
     "metadata": {},
     "output_type": "execute_result"
    }
   ],
   "source": [
    "#must read as excel file\n",
    "df = pd.read_excel('DataForTable2.1WHR2023.xls')\n",
    "df"
   ]
  },
  {
   "cell_type": "markdown",
   "id": "9d7b6e63-b01e-468b-a23c-07f27221dd22",
   "metadata": {},
   "source": [
    "# Data Quality Evaluation\n",
    "The data contains 2199 entries with a total of 11 columns\\\n",
    "Features (* indicates not every entry has a value for the feature [[Feature Info](#Feature-Info)]):\n",
    "- Country name: A string representing the name of the country being reviewed \n",
    "- Year: An integer representing the year the review was conducted \n",
    "- Life ladder: A float from 0-10 with 10 representing the best posible life and 0 being the worst ([https://worldhappiness.report/faq])\n",
    "- *Log GDP per capita: A representation of the econmic growth of the country represented by a float\n",
    "- *Social support: The amount of social support provided represented by a float\n",
    "- *Healthy life expectancy at birth: Life expectancy for a healthy individual represented as a float\n",
    "- *Freedom to make life choices: The freedom granted to make personal choices about ones life represented as a float\n",
    "- *Generosity: A representation of the generosity of a people, as a float\n",
    "- *Perceptions of corruption: A representation of the perception of corruption represented as a float\n",
    "- *Positive affect: Feelings of positive emotions represented by a float\n",
    "- *Negative affect: Feelings of negative emotions represented by a float\n",
    "\n",
    "\n",
    "Distribution [[Feature Distribution](#Feature-Distribution)]:\n",
    "- One feature I am noticing is that 'Generosity' can be a negative number\n",
    "    * This could be important if we were to normalize this feature\n",
    "- It seems that most of the features have ranges from 0-1 including:\n",
    "    * Social support\n",
    "    * Healthy life expectancy at birth\n",
    "    * Freedom to make life choices\n",
    "    * Perceptions of corruption\n",
    "    * Positive affect\n",
    "    * Negative affect\n",
    "- 'Life Ladder' & 'Log GDP per capita' have a higher standard deviation that the rest other than life expectancy and also somewhat share a mean\n",
    "    * I think that it would be very interesting to see the correlation between the two, or if there is one\n",
    "\n",
    "\n",
    "Limitations:\n",
    "- The year only goes up till 2022 [[Feature Distribution](#Feature-Distribution)]\n",
    "- Many of the features do not cover all entries [[Feature Info](#Feature-Info)]\n",
    "- Definition of some features is vague\n",
    "- I would like to see more of these features fully completed\n",
    "- I would also like to see a more even amount of entries for all countries [[Country Counts](#Country-Counts)]"
   ]
  },
  {
   "cell_type": "markdown",
   "id": "20ad585e-5eea-482c-a9ee-cb037c2a13ed",
   "metadata": {},
   "source": [
    "## Feature Info"
   ]
  },
  {
   "cell_type": "code",
   "execution_count": 4,
   "id": "36b1220b-c4e7-401d-8690-df7b530197dc",
   "metadata": {},
   "outputs": [
    {
     "name": "stdout",
     "output_type": "stream",
     "text": [
      "<class 'pandas.core.frame.DataFrame'>\n",
      "RangeIndex: 2199 entries, 0 to 2198\n",
      "Data columns (total 11 columns):\n",
      " #   Column                            Non-Null Count  Dtype  \n",
      "---  ------                            --------------  -----  \n",
      " 0   Country name                      2199 non-null   object \n",
      " 1   year                              2199 non-null   int64  \n",
      " 2   Life Ladder                       2199 non-null   float64\n",
      " 3   Log GDP per capita                2179 non-null   float64\n",
      " 4   Social support                    2186 non-null   float64\n",
      " 5   Healthy life expectancy at birth  2145 non-null   float64\n",
      " 6   Freedom to make life choices      2166 non-null   float64\n",
      " 7   Generosity                        2126 non-null   float64\n",
      " 8   Perceptions of corruption         2083 non-null   float64\n",
      " 9   Positive affect                   2175 non-null   float64\n",
      " 10  Negative affect                   2183 non-null   float64\n",
      "dtypes: float64(9), int64(1), object(1)\n",
      "memory usage: 189.1+ KB\n"
     ]
    }
   ],
   "source": [
    "df.info()"
   ]
  },
  {
   "cell_type": "markdown",
   "id": "fe63590b-5e43-4dda-8d33-11faaacdeff1",
   "metadata": {},
   "source": [
    "## Feature Distribution"
   ]
  },
  {
   "cell_type": "code",
   "execution_count": 5,
   "id": "b3376e08-ea46-42e8-bb6e-7bd041ab7626",
   "metadata": {},
   "outputs": [
    {
     "data": {
      "text/html": [
       "<div>\n",
       "<style scoped>\n",
       "    .dataframe tbody tr th:only-of-type {\n",
       "        vertical-align: middle;\n",
       "    }\n",
       "\n",
       "    .dataframe tbody tr th {\n",
       "        vertical-align: top;\n",
       "    }\n",
       "\n",
       "    .dataframe thead th {\n",
       "        text-align: right;\n",
       "    }\n",
       "</style>\n",
       "<table border=\"1\" class=\"dataframe\">\n",
       "  <thead>\n",
       "    <tr style=\"text-align: right;\">\n",
       "      <th></th>\n",
       "      <th>year</th>\n",
       "      <th>Life Ladder</th>\n",
       "      <th>Log GDP per capita</th>\n",
       "      <th>Social support</th>\n",
       "      <th>Healthy life expectancy at birth</th>\n",
       "      <th>Freedom to make life choices</th>\n",
       "      <th>Generosity</th>\n",
       "      <th>Perceptions of corruption</th>\n",
       "      <th>Positive affect</th>\n",
       "      <th>Negative affect</th>\n",
       "    </tr>\n",
       "  </thead>\n",
       "  <tbody>\n",
       "    <tr>\n",
       "      <th>count</th>\n",
       "      <td>2199.000000</td>\n",
       "      <td>2199.000000</td>\n",
       "      <td>2179.000000</td>\n",
       "      <td>2186.000000</td>\n",
       "      <td>2145.000000</td>\n",
       "      <td>2166.000000</td>\n",
       "      <td>2126.000000</td>\n",
       "      <td>2083.000000</td>\n",
       "      <td>2175.000000</td>\n",
       "      <td>2183.000000</td>\n",
       "    </tr>\n",
       "    <tr>\n",
       "      <th>mean</th>\n",
       "      <td>2014.161437</td>\n",
       "      <td>5.479226</td>\n",
       "      <td>9.389766</td>\n",
       "      <td>0.810679</td>\n",
       "      <td>63.294583</td>\n",
       "      <td>0.747858</td>\n",
       "      <td>0.000096</td>\n",
       "      <td>0.745195</td>\n",
       "      <td>0.652143</td>\n",
       "      <td>0.271501</td>\n",
       "    </tr>\n",
       "    <tr>\n",
       "      <th>std</th>\n",
       "      <td>4.718736</td>\n",
       "      <td>1.125529</td>\n",
       "      <td>1.153387</td>\n",
       "      <td>0.120952</td>\n",
       "      <td>6.901104</td>\n",
       "      <td>0.140150</td>\n",
       "      <td>0.161083</td>\n",
       "      <td>0.185837</td>\n",
       "      <td>0.105922</td>\n",
       "      <td>0.086875</td>\n",
       "    </tr>\n",
       "    <tr>\n",
       "      <th>min</th>\n",
       "      <td>2005.000000</td>\n",
       "      <td>1.281271</td>\n",
       "      <td>5.526723</td>\n",
       "      <td>0.228217</td>\n",
       "      <td>6.720000</td>\n",
       "      <td>0.257534</td>\n",
       "      <td>-0.337527</td>\n",
       "      <td>0.035198</td>\n",
       "      <td>0.178886</td>\n",
       "      <td>0.082737</td>\n",
       "    </tr>\n",
       "    <tr>\n",
       "      <th>25%</th>\n",
       "      <td>2010.000000</td>\n",
       "      <td>4.646750</td>\n",
       "      <td>8.499764</td>\n",
       "      <td>0.746609</td>\n",
       "      <td>59.119999</td>\n",
       "      <td>0.656528</td>\n",
       "      <td>-0.112116</td>\n",
       "      <td>0.688139</td>\n",
       "      <td>0.571684</td>\n",
       "      <td>0.207660</td>\n",
       "    </tr>\n",
       "    <tr>\n",
       "      <th>50%</th>\n",
       "      <td>2014.000000</td>\n",
       "      <td>5.432437</td>\n",
       "      <td>9.498955</td>\n",
       "      <td>0.835535</td>\n",
       "      <td>65.050003</td>\n",
       "      <td>0.769821</td>\n",
       "      <td>-0.022671</td>\n",
       "      <td>0.799654</td>\n",
       "      <td>0.663063</td>\n",
       "      <td>0.260671</td>\n",
       "    </tr>\n",
       "    <tr>\n",
       "      <th>75%</th>\n",
       "      <td>2018.000000</td>\n",
       "      <td>6.309460</td>\n",
       "      <td>10.373216</td>\n",
       "      <td>0.904792</td>\n",
       "      <td>68.500000</td>\n",
       "      <td>0.859382</td>\n",
       "      <td>0.092070</td>\n",
       "      <td>0.868827</td>\n",
       "      <td>0.737936</td>\n",
       "      <td>0.322894</td>\n",
       "    </tr>\n",
       "    <tr>\n",
       "      <th>max</th>\n",
       "      <td>2022.000000</td>\n",
       "      <td>8.018934</td>\n",
       "      <td>11.663788</td>\n",
       "      <td>0.987343</td>\n",
       "      <td>74.474998</td>\n",
       "      <td>0.985178</td>\n",
       "      <td>0.702708</td>\n",
       "      <td>0.983276</td>\n",
       "      <td>0.883586</td>\n",
       "      <td>0.704590</td>\n",
       "    </tr>\n",
       "  </tbody>\n",
       "</table>\n",
       "</div>"
      ],
      "text/plain": [
       "              year  Life Ladder  Log GDP per capita  Social support  \\\n",
       "count  2199.000000  2199.000000         2179.000000     2186.000000   \n",
       "mean   2014.161437     5.479226            9.389766        0.810679   \n",
       "std       4.718736     1.125529            1.153387        0.120952   \n",
       "min    2005.000000     1.281271            5.526723        0.228217   \n",
       "25%    2010.000000     4.646750            8.499764        0.746609   \n",
       "50%    2014.000000     5.432437            9.498955        0.835535   \n",
       "75%    2018.000000     6.309460           10.373216        0.904792   \n",
       "max    2022.000000     8.018934           11.663788        0.987343   \n",
       "\n",
       "       Healthy life expectancy at birth  Freedom to make life choices  \\\n",
       "count                       2145.000000                   2166.000000   \n",
       "mean                          63.294583                      0.747858   \n",
       "std                            6.901104                      0.140150   \n",
       "min                            6.720000                      0.257534   \n",
       "25%                           59.119999                      0.656528   \n",
       "50%                           65.050003                      0.769821   \n",
       "75%                           68.500000                      0.859382   \n",
       "max                           74.474998                      0.985178   \n",
       "\n",
       "        Generosity  Perceptions of corruption  Positive affect  \\\n",
       "count  2126.000000                2083.000000      2175.000000   \n",
       "mean      0.000096                   0.745195         0.652143   \n",
       "std       0.161083                   0.185837         0.105922   \n",
       "min      -0.337527                   0.035198         0.178886   \n",
       "25%      -0.112116                   0.688139         0.571684   \n",
       "50%      -0.022671                   0.799654         0.663063   \n",
       "75%       0.092070                   0.868827         0.737936   \n",
       "max       0.702708                   0.983276         0.883586   \n",
       "\n",
       "       Negative affect  \n",
       "count      2183.000000  \n",
       "mean          0.271501  \n",
       "std           0.086875  \n",
       "min           0.082737  \n",
       "25%           0.207660  \n",
       "50%           0.260671  \n",
       "75%           0.322894  \n",
       "max           0.704590  "
      ]
     },
     "execution_count": 5,
     "metadata": {},
     "output_type": "execute_result"
    }
   ],
   "source": [
    "df.describe()"
   ]
  },
  {
   "cell_type": "markdown",
   "id": "288ff939-8bdd-4a44-9b4f-cc303688aa07",
   "metadata": {},
   "source": [
    "## Heat Map"
   ]
  },
  {
   "cell_type": "code",
   "execution_count": 4,
   "id": "3fcf5458-0867-4612-894a-c5be4d9ef8f3",
   "metadata": {},
   "outputs": [
    {
     "data": {
      "text/plain": [
       "<Axes: >"
      ]
     },
     "execution_count": 4,
     "metadata": {},
     "output_type": "execute_result"
    },
    {
     "data": {
      "image/png": "[encoded data removed]",
      "text/plain": [
       "<Figure size 640x480 with 2 Axes>"
      ]
     },
     "metadata": {},
     "output_type": "display_data"
    }
   ],
   "source": [
    "import seaborn as sns\n",
    "sns.heatmap(df.corr(numeric_only=True), annot=True)"
   ]
  },
  {
   "cell_type": "markdown",
   "id": "c8b2e7ab-925f-4820-b35b-dc6b8d2d09d7",
   "metadata": {},
   "source": [
    "## Country Counts"
   ]
  },
  {
   "cell_type": "code",
   "execution_count": 10,
   "id": "9322cc6e-fe49-4c49-8d29-95b08c60b661",
   "metadata": {},
   "outputs": [
    {
     "data": {
      "text/plain": [
       "Country name\n",
       "Lebanon       17\n",
       "Indonesia     17\n",
       "Kyrgyzstan    17\n",
       "Kenya         17\n",
       "Kazakhstan    17\n",
       "              ..\n",
       "Maldives       1\n",
       "Guyana         1\n",
       "Oman           1\n",
       "Suriname       1\n",
       "Cuba           1\n",
       "Name: count, Length: 165, dtype: int64"
      ]
     },
     "execution_count": 10,
     "metadata": {},
     "output_type": "execute_result"
    }
   ],
   "source": [
    "df['Country name'].value_counts()"
   ]
  },
  {
   "cell_type": "markdown",
   "id": "65ba532a-3b38-4cba-bb73-90a95708535d",
   "metadata": {},
   "source": [
    "# Happiest Countries"
   ]
  },
  {
   "cell_type": "markdown",
   "id": "a58f76be-7bdb-40b5-a643-acc92ea683a8",
   "metadata": {},
   "source": [
    "## Happiest Country 2022"
   ]
  },
  {
   "cell_type": "code",
   "execution_count": 8,
   "id": "632dda74-c74b-4725-82b7-f49af30f5517",
   "metadata": {},
   "outputs": [
    {
     "data": {
      "text/plain": [
       "Country name     Finland\n",
       "year                2022\n",
       "Life Ladder     7.728998\n",
       "Name: 637, dtype: object"
      ]
     },
     "execution_count": 8,
     "metadata": {},
     "output_type": "execute_result"
    }
   ],
   "source": [
    "# get all the entries related to the most recent year 2022\n",
    "df2022 = df[df.year == 2022]\n",
    "# get the country associated with the highest life ladder out of 2022 entries\n",
    "df2022.loc[df2022['Life Ladder'].idxmax()][['Country name', 'year', 'Life Ladder']]"
   ]
  },
  {
   "cell_type": "markdown",
   "id": "ccca78a1-1fde-45a2-b924-6ec91375c57d",
   "metadata": {},
   "source": [
    "## Happiest Country 2013"
   ]
  },
  {
   "cell_type": "code",
   "execution_count": 39,
   "id": "9a2d98ee-6b7d-4dc6-bcb0-7b989999367a",
   "metadata": {},
   "outputs": [
    {
     "data": {
      "text/plain": [
       "Country name      Canada\n",
       "year                2013\n",
       "Life Ladder     7.593794\n",
       "Name: 334, dtype: object"
      ]
     },
     "execution_count": 39,
     "metadata": {},
     "output_type": "execute_result"
    }
   ],
   "source": [
    "# get all the entries related to the year 2013\n",
    "df2013 = df[df.year == 2013]\n",
    "# get the country associated with the highest life ladder out of 2013 entries\n",
    "df2013.loc[df2013['Life Ladder'].idxmax()][['Country name', 'year', 'Life Ladder']]"
   ]
  },
  {
   "cell_type": "markdown",
   "id": "e21e9087-d79a-41bb-a4d3-5c9189179e78",
   "metadata": {},
   "source": [
    "## Happiest Country of all Time"
   ]
  },
  {
   "cell_type": "code",
   "execution_count": 40,
   "id": "7e846828-766b-4610-9cb2-2570105d3f54",
   "metadata": {},
   "outputs": [
    {
     "data": {
      "text/plain": [
       "Country name     Denmark\n",
       "year                2005\n",
       "Life Ladder     8.018934\n",
       "Name: 505, dtype: object"
      ]
     },
     "execution_count": 40,
     "metadata": {},
     "output_type": "execute_result"
    }
   ],
   "source": [
    "# get the country associated with the highest life ladder\n",
    "df.loc[df['Life Ladder'].idxmax()][['Country name', 'year', 'Life Ladder']]"
   ]
  },
  {
   "cell_type": "markdown",
   "id": "c079c0b2-5fae-414f-b314-8de5e0030a55",
   "metadata": {},
   "source": [
    "# Least Happy Countries"
   ]
  },
  {
   "cell_type": "markdown",
   "id": "e73e4ef9-b0de-4e24-8e92-39eaf9dc1980",
   "metadata": {},
   "source": [
    "## Least Happy Country 2022"
   ]
  },
  {
   "cell_type": "code",
   "execution_count": 41,
   "id": "aa184024-d9a7-4675-9a4c-9c7c0055a2f5",
   "metadata": {},
   "outputs": [
    {
     "data": {
      "text/plain": [
       "Country name    Afghanistan\n",
       "year                   2022\n",
       "Life Ladder        1.281271\n",
       "Name: 13, dtype: object"
      ]
     },
     "execution_count": 41,
     "metadata": {},
     "output_type": "execute_result"
    }
   ],
   "source": [
    "# get all the entries related to the most recent year 2022\n",
    "df2022 = df[df.year == 2022]\n",
    "# get the country associated with the lowest life ladder out of 2022 entries\n",
    "df2022.loc[df2022['Life Ladder'].idxmin()][['Country name', 'year', 'Life Ladder']]"
   ]
  },
  {
   "cell_type": "markdown",
   "id": "90e962a6-abbd-4d6f-9706-4c4fa2594500",
   "metadata": {},
   "source": [
    "## Least Happy Country 2013"
   ]
  },
  {
   "cell_type": "code",
   "execution_count": 42,
   "id": "fc4190ee-273f-47e1-ac0c-6b1013486e4f",
   "metadata": {},
   "outputs": [
    {
     "data": {
      "text/plain": [
       "Country name       Syria\n",
       "year                2013\n",
       "Life Ladder     2.687553\n",
       "Name: 1883, dtype: object"
      ]
     },
     "execution_count": 42,
     "metadata": {},
     "output_type": "execute_result"
    }
   ],
   "source": [
    "# get all the entries related to the year 2013\n",
    "df2013 = df[df.year == 2013]\n",
    "# get the country associated with the lowest life ladder out of 2013 entries\n",
    "df2013.loc[df2013['Life Ladder'].idxmin()][['Country name', 'year', 'Life Ladder']]"
   ]
  },
  {
   "cell_type": "markdown",
   "id": "bcda759f-90c3-4d61-982f-86536ceb744c",
   "metadata": {},
   "source": [
    "## Least Happy Country of all Time"
   ]
  },
  {
   "cell_type": "code",
   "execution_count": 43,
   "id": "1034744b-ea36-436d-8f94-d2530c72b370",
   "metadata": {},
   "outputs": [
    {
     "data": {
      "text/plain": [
       "Country name    Afghanistan\n",
       "year                   2022\n",
       "Life Ladder        1.281271\n",
       "Name: 13, dtype: object"
      ]
     },
     "execution_count": 43,
     "metadata": {},
     "output_type": "execute_result"
    }
   ],
   "source": [
    "# get the country associated with the lowest life ladder\n",
    "df.loc[df['Life Ladder'].idxmin()][['Country name', 'year', 'Life Ladder']]"
   ]
  },
  {
   "cell_type": "markdown",
   "id": "eca8ea9b-9ea9-4887-b8e5-f8c09ba179c7",
   "metadata": {},
   "source": [
    "# Happiness Delta"
   ]
  },
  {
   "cell_type": "markdown",
   "id": "a14d6b54-9ded-4cfb-bf35-e438c07c39c7",
   "metadata": {},
   "source": [
    "## Biggest Happiness Increase"
   ]
  },
  {
   "cell_type": "code",
   "execution_count": 49,
   "id": "fae3a63e-d4c7-4bb8-b296-e8415a40ac15",
   "metadata": {},
   "outputs": [
    {
     "name": "stdout",
     "output_type": "stream",
     "text": [
      "Congo (Brazzaville) 1.9851264953613281\n"
     ]
    }
   ],
   "source": [
    "max_inc = 0 # track biggest increase so far\n",
    "cname = \"UNDEF\" # track the country associated with that increase\n",
    "countries = df.groupby('Country name') # group the countries data together\n",
    "for country, data in countries: #loop through each countries data\n",
    "    v00 = data[data.year == data['year'].min()]['Life Ladder'].values # extract data from earliest year\n",
    "    v22 = data[data.year == 2022]['Life Ladder'].values # extract data from 2022\n",
    "    if (len(v00) >= 1 and len(v22) >= 1): # make sure we actually had data for those years\n",
    "        curr_inc = v22[0] - v00[0] # calculate the increase\n",
    "        if (curr_inc > max_inc): # if the increase is the biggest so far update our tracking variables\n",
    "            max_inc = curr_inc\n",
    "            cname = country\n",
    "print(cname, max_inc) # print the solution"
   ]
  },
  {
   "cell_type": "markdown",
   "id": "7c783482-63ab-478e-a432-edbfe5cf97ba",
   "metadata": {},
   "source": [
    "## Biggest Happiness Decrease"
   ]
  },
  {
   "cell_type": "code",
   "execution_count": 50,
   "id": "f4f1326a-bf6e-4b69-b8dc-f94a0773195e",
   "metadata": {},
   "outputs": [
    {
     "name": "stdout",
     "output_type": "stream",
     "text": [
      "Lebanon -3.138817548751831\n"
     ]
    }
   ],
   "source": [
    "max_dec = -0 # track biggest decrease so far\n",
    "cname = \"UNDEF\" # track the country associated with that increase\n",
    "countries = df.groupby('Country name') # group the countries data together\n",
    "for country, data in countries: #loop through each countries data\n",
    "    v00 = data[data.year == data['year'].min()]['Life Ladder'].values # extract data from earliest year\n",
    "    v22 = data[data.year == 2022]['Life Ladder'].values # extract data from 2022\n",
    "    if (len(v00) >= 1 and len(v22) >= 1): # make sure we actually had data for those years\n",
    "        curr_dec = v22[0] - v00[0] # calculate the decrease\n",
    "        if (curr_dec < max_dec): # if the decrease is the biggest so far update our tracking variables\n",
    "            max_dec = curr_dec\n",
    "            cname = country\n",
    "print(cname, max_dec) # print the solution"
   ]
  }
 ],
 "metadata": {
  "kernelspec": {
   "display_name": "Python 3 (ipykernel)",
   "language": "python",
   "name": "python3"
  },
  "language_info": {
   "codemirror_mode": {
    "name": "ipython",
    "version": 3
   },
   "file_extension": ".py",
   "mimetype": "text/x-python",
   "name": "python",
   "nbconvert_exporter": "python",
   "pygments_lexer": "ipython3",
   "version": "3.11.5"
  }
 },
 "nbformat": 4,
 "nbformat_minor": 5
}
